{
 "cells": [
  {
   "cell_type": "code",
   "execution_count": 1,
   "metadata": {},
   "outputs": [
    {
     "name": "stderr",
     "output_type": "stream",
     "text": [
      "/usr/lib/python2.7/site-packages/statsmodels/compat/pandas.py:56: FutureWarning: The pandas.core.datetools module is deprecated and will be removed in a future version. Please use the pandas.tseries module instead.\n",
      "  from pandas.core import datetools\n"
     ]
    }
   ],
   "source": [
    "%matplotlib inline\n",
    "import powerlaw\n",
    "import numpy as np\n",
    "import statsmodels.api as sm\n",
    "import matplotlib.pyplot as plt"
   ]
  },
  {
   "cell_type": "code",
   "execution_count": 2,
   "metadata": {},
   "outputs": [],
   "source": [
    "pl = powerlaw.Power_Law()\n",
    "pl.alpha = 2.5"
   ]
  },
  {
   "cell_type": "code",
   "execution_count": 3,
   "metadata": {
    "scrolled": true
   },
   "outputs": [],
   "source": [
    "data = np.array(pl.generate_random(10000, estimate_discrete=True)) + np.random.rand(10000)*2"
   ]
  },
  {
   "cell_type": "code",
   "execution_count": 4,
   "metadata": {},
   "outputs": [
    {
     "name": "stderr",
     "output_type": "stream",
     "text": [
      "Calculating best minimal value for power law fit\n",
      "/usr/lib/python2.7/site-packages/powerlaw.py:697: RuntimeWarning: invalid value encountered in divide\n",
      "  (Theoretical_CDF * (1 - Theoretical_CDF))\n"
     ]
    }
   ],
   "source": [
    "dist_fit = powerlaw.Fit(data)"
   ]
  },
  {
   "cell_type": "code",
   "execution_count": 5,
   "metadata": {},
   "outputs": [],
   "source": [
    "ecdf = sm.distributions.ECDF(dist_fit.data_original, side='left')\n",
    "x = sorted(list(set(dist_fit.data_original)))\n",
    "y = 1 - ecdf(x)\n",
    "x_pl = [float(i) for i in x if i >= dist_fit.power_law.xmin]"
   ]
  },
  {
   "cell_type": "code",
   "execution_count": 6,
   "metadata": {},
   "outputs": [],
   "source": [
    "shift_y = dist_fit.n_tail/len(dist_fit.data_original)"
   ]
  },
  {
   "cell_type": "code",
   "execution_count": 7,
   "metadata": {},
   "outputs": [
    {
     "data": {
      "image/png": "[encoded data removed]",
      "text/plain": [
       "<matplotlib.figure.Figure at 0x7f1a2d4e5d10>"
      ]
     },
     "metadata": {},
     "output_type": "display_data"
    }
   ],
   "source": [
    "plt.figure(figsize=(4, 3.5))\n",
    "plt.plot(x, y, marker=\".\", ls=\"\", ms=2)\n",
    "plt.plot(x_pl, shift_y*dist_fit.power_law.ccdf(x_pl), color=\"k\")\n",
    "plt.plot(x_pl, shift_y*dist_fit.truncated_power_law.ccdf(x_pl), color=\"k\", ls=\":\")\n",
    "plt.axvline(dist_fit.xmin, color='gray', ls=\":\")\n",
    "plt.xscale(\"log\")\n",
    "plt.yscale(\"log\")\n",
    "plt.xlabel(\"$x$\")\n",
    "plt.ylabel(\"$P(x)$\");"
   ]
  },
  {
   "cell_type": "code",
   "execution_count": 8,
   "metadata": {},
   "outputs": [
    {
     "name": "stderr",
     "output_type": "stream",
     "text": [
      "/usr/lib/python2.7/site-packages/matplotlib/scale.py:111: RuntimeWarning: invalid value encountered in less_equal\n",
      "  out[a <= 0] = -1000\n"
     ]
    },
    {
     "data": {
      "image/png": "[encoded data removed]",
      "text/plain": [
       "<matplotlib.figure.Figure at 0x7f1a2cdffa10>"
      ]
     },
     "metadata": {},
     "output_type": "display_data"
    }
   ],
   "source": [
    "plt.figure(figsize=(4, 3.5))\n",
    "x = np.linspace(dist_fit.power_law.xmin, dist_fit.data_original.max(), 10)\n",
    "shift_y = dist_fit.n_tail/len(dist_fit.data_original)\n",
    "dist_fit.plot_pdf(original_data=True, marker=\"o\", ls=\"\", ms=2)\n",
    "plt.plot(x, shift_y*dist_fit.power_law.pdf(x), color=\"k\", ls=\"-\")\n",
    "plt.axvline(dist_fit.xmin, color='gray', ls=\":\")\n",
    "plt.xscale(\"log\")\n",
    "plt.yscale(\"log\")\n",
    "plt.xlabel(\"$x$\")\n",
    "plt.ylabel(\"$p(x)$\");"
   ]
  }
 ],
 "metadata": {
  "kernelspec": {
   "display_name": "Python 2",
   "language": "python2",
   "name": "python2"
  },
  "language_info": {
   "codemirror_mode": {
    "name": "ipython",
    "version": 2
   },
   "file_extension": ".py",
   "mimetype": "text/x-python",
   "name": "python",
   "nbconvert_exporter": "python",
   "pygments_lexer": "ipython2",
   "version": "2.7.14"
  }
 },
 "nbformat": 4,
 "nbformat_minor": 2
}
